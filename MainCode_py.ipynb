{
  "nbformat": 4,
  "nbformat_minor": 0,
  "metadata": {
    "colab": {
      "provenance": [],
      "include_colab_link": true
    },
    "kernelspec": {
      "name": "python3",
      "display_name": "Python 3"
    },
    "language_info": {
      "name": "python"
    }
  },
  "cells": [
    {
      "cell_type": "markdown",
      "metadata": {
        "id": "view-in-github",
        "colab_type": "text"
      },
      "source": [
        "<a href=\"https://colab.research.google.com/github/MayankSahu37/MayankSahu37/blob/main/MainCode_py.ipynb\" target=\"_parent\"><img src=\"https://colab.research.google.com/assets/colab-badge.svg\" alt=\"Open In Colab\"/></a>"
      ]
    },
    {
      "cell_type": "code",
      "source": [
        " #Program For Additon Of 2 numbers\n",
        " a = int(input(\"Enter First Number :\"))\n",
        " b = int(input(\"Enter Second Number :\"))\n",
        " sum = a + b\n",
        " print(sum)"
      ],
      "metadata": {
        "colab": {
          "base_uri": "https://localhost:8080/"
        },
        "id": "s1x8TyoP1PNK",
        "outputId": "0a495068-d9f4-4f10-f6ab-b34f72f879e6"
      },
      "execution_count": null,
      "outputs": [
        {
          "output_type": "stream",
          "name": "stdout",
          "text": [
            "Enter First Number2\n",
            "Enter Second Number3\n",
            "5\n"
          ]
        }
      ]
    },
    {
      "cell_type": "code",
      "source": [
        "#Program for addtion of three numbers\n",
        "a = int(input(\"Enter The First Number\"))\n",
        "b = int(input(\"Enter The Second Number\"))\n",
        "c = int(input(\"Enter The Third Number\"))\n",
        "\n",
        "sum = a+b+c\n",
        "print(\"Sum\",sum)\n"
      ],
      "metadata": {
        "colab": {
          "base_uri": "https://localhost:8080/"
        },
        "id": "Zsp9RgiX-nau",
        "outputId": "74e8cd27-2551-4780-b8fd-064b2ed5b198"
      },
      "execution_count": null,
      "outputs": [
        {
          "output_type": "stream",
          "name": "stdout",
          "text": [
            "Enter The First Number5\n",
            "Enter The Second Number9\n",
            "Enter The Third Number8\n",
            "Sum 22\n"
          ]
        }
      ]
    },
    {
      "cell_type": "code",
      "source": [
        "#Program for Simple Intrest\n",
        "p = int(input(\"Enter Principal :\"))\n",
        "r = int(input(\"Enter rate :\"))\n",
        "c = int(input(\"Enter Compound :\"))\n",
        "si = p*r*c/100\n",
        "print(\"Simple Intrest :\",si)"
      ],
      "metadata": {
        "colab": {
          "base_uri": "https://localhost:8080/"
        },
        "id": "hWCVVLNg4any",
        "outputId": "7c9a2e66-a8ed-4ad8-ed24-e9e3127f958a"
      },
      "execution_count": null,
      "outputs": [
        {
          "output_type": "stream",
          "name": "stdout",
          "text": [
            "Enter Principal :1000\n",
            "Enter rate :2\n",
            "Enter Compound :2000\n",
            "Simple Intrest : 40000.0\n"
          ]
        }
      ]
    },
    {
      "cell_type": "code",
      "source": [
        "#Program greater in two\n",
        "a = int(input(\"Enter First Number :\"))\n",
        "b = int(input(\"Enter Second Number :\"))\n",
        "if(a>b):\n",
        "    print(a,\"is greater\")\n",
        "else :\n",
        "    print(b,\"is greater\")"
      ],
      "metadata": {
        "colab": {
          "base_uri": "https://localhost:8080/"
        },
        "id": "BrZcNeth51xR",
        "outputId": "13e749af-2205-4bf6-d6f1-32688454d6bd"
      },
      "execution_count": null,
      "outputs": [
        {
          "output_type": "stream",
          "name": "stdout",
          "text": [
            "Enter First Number :3\n",
            "Enter Second Number :4\n",
            "4 is greater\n"
          ]
        }
      ]
    },
    {
      "cell_type": "code",
      "source": [
        "a = int(input(\"Enter First Number :\"))\n",
        "b = int(input(\"Enter Second Number :\"))\n",
        "c = int(input(\"Enter Third Number :\"))\n",
        "if(a>b) and (a>c):\n",
        "  print(a,\"is greater\")\n",
        "elif(b>a) and (b>c):\n",
        "  print(b,\"is greater\")\n",
        "else:\n",
        "  print(c,\"is greater\")\n"
      ],
      "metadata": {
        "colab": {
          "base_uri": "https://localhost:8080/"
        },
        "id": "8Z8c8ThE7bJy",
        "outputId": "65d1f28b-0928-4d98-e994-cda94bdadddf"
      },
      "execution_count": null,
      "outputs": [
        {
          "output_type": "stream",
          "name": "stdout",
          "text": [
            "Enter First Number :2\n",
            "Enter Second Number :3\n",
            "Enter Third Number :4\n",
            "4 is\n"
          ]
        }
      ]
    },
    {
      "cell_type": "code",
      "source": [
        "#Prgram for Armstrong number\n",
        "a = int(input(\"Enter a number :\"))\n",
        "n=a\n",
        "d1=a%10\n",
        "a=int(a/10)\n",
        "d2=a%10\n",
        "a=int(a/10)\n",
        "sum_digits=d1+d2+a\n",
        "print(\"Sum of Digits =\",sum_digits)\n",
        "rev=d1*100+d2*10+a\n",
        "print(\"reverse nuber :\",rev)\n",
        "if(n==rev):\n",
        "  print(\"Number is Polindrom\")\n",
        "else:\n",
        "  print(\"Number is not Plondrom\")\n",
        "x = d1**3+d2**3+a**3\n",
        "if(x==n):\n",
        "   print(\"Number is armstrong\")\n",
        "else:\n",
        "   print(\"Number is not armstrong\")"
      ],
      "metadata": {
        "colab": {
          "base_uri": "https://localhost:8080/"
        },
        "id": "y6uZlym195vL",
        "outputId": "90aecf89-a8bc-48bd-bb29-f5445cc53f6f"
      },
      "execution_count": null,
      "outputs": [
        {
          "output_type": "stream",
          "name": "stdout",
          "text": [
            "Enter a number :544\n",
            "Sum of Digits = 13\n",
            "reverse nuber : 445\n",
            "Number is not Plondrom\n",
            "Number is not armstrong\n"
          ]
        }
      ]
    },
    {
      "cell_type": "code",
      "source": [
        "#For Loop\n",
        "for i in range(0,6):\n",
        "  print(i)"
      ],
      "metadata": {
        "id": "1FJ69eC_m2ur"
      },
      "execution_count": null,
      "outputs": []
    },
    {
      "cell_type": "code",
      "source": [
        "#For Loop\n",
        "for i in range(1,20,2): #range\n",
        "  print(i)"
      ],
      "metadata": {
        "id": "vc2uHa17p-_z"
      },
      "execution_count": null,
      "outputs": []
    },
    {
      "cell_type": "code",
      "source": [
        "#Program For Table Of Input Number\n",
        "n = int(input(\"Enter A Number :\"))\n",
        "\n",
        "for i in range(1,11):\n",
        "  print(n,\"x\",i,\"=\",n*i)"
      ],
      "metadata": {
        "id": "BLyMi0HzqbVi"
      },
      "execution_count": null,
      "outputs": []
    },
    {
      "cell_type": "code",
      "source": [
        "#Print even number in the range 100 to 200\n",
        "\n",
        "for i in range(100,200,2):\n",
        "  if(i%2==0):\n",
        "    print(i)"
      ],
      "metadata": {
        "id": "XondvFQPtPE3"
      },
      "execution_count": null,
      "outputs": []
    },
    {
      "cell_type": "code",
      "source": [
        "#Find sum of squares of odd number between 50 to 500\n",
        "s=0\n",
        "for i in range(1,11):\n",
        "  if(i%2!=0):\n",
        "    s=s+i*i\n",
        "    print(i,\"Square = \",i*i)\n",
        "print(\"sum =\",s)"
      ],
      "metadata": {
        "colab": {
          "base_uri": "https://localhost:8080/"
        },
        "id": "UlfEGyCOt9kx",
        "outputId": "d1b326d9-865d-4467-eeee-b06a55047a60"
      },
      "execution_count": null,
      "outputs": [
        {
          "output_type": "stream",
          "name": "stdout",
          "text": [
            "1 Square =  1\n",
            "3 Square =  9\n",
            "5 Square =  25\n",
            "7 Square =  49\n",
            "9 Square =  81\n",
            "sum = 165\n"
          ]
        }
      ]
    },
    {
      "cell_type": "code",
      "source": [
        "#Factorial\n",
        "num = int(input(\"Enter a number\"))\n",
        "Factorial = 1\n",
        "for i in range(1,num+1):\n",
        "  Factorial *= i\n",
        "print(f\"The factorial of {num} is {Factorial}\")\n"
      ],
      "metadata": {
        "colab": {
          "base_uri": "https://localhost:8080/"
        },
        "id": "13UpSs3FxfpB",
        "outputId": "b5b61535-4d40-484b-bd43-e8b69e0b449e"
      },
      "execution_count": null,
      "outputs": [
        {
          "output_type": "stream",
          "name": "stdout",
          "text": [
            "Enter a number3\n",
            "The factorial of 3 is 6\n"
          ]
        }
      ]
    },
    {
      "cell_type": "code",
      "source": [
        "#Program For Swapping\n",
        "a = int(input(\"Enter Value Of A :\"))\n",
        "b = int(input(\"Enter Value Of B :\"))\n",
        "\n",
        "a = a+b #a=2 b=3\n",
        "b = a-b # b =5-3 b=2 a=5\n",
        "a = a-b #a = 3\n",
        "print(\"After Swap\",\"A :\",a,\"B :\",b)"
      ],
      "metadata": {
        "id": "hBw6nQEb32Fq",
        "colab": {
          "base_uri": "https://localhost:8080/"
        },
        "outputId": "8e7482af-fd36-4472-cd6f-a065b3f60583"
      },
      "execution_count": null,
      "outputs": [
        {
          "output_type": "stream",
          "name": "stdout",
          "text": [
            "Enter Value Of A :5\n",
            "Enter Value Of B :3\n",
            "After Swap A : 3 B : 5\n"
          ]
        }
      ]
    },
    {
      "cell_type": "code",
      "source": [
        "#program for prime number\n",
        "lower = 1\n",
        "upper = 10\n",
        "\n",
        "print(\"Prime numbers between\", lower, \"and\", upper, \"are:\")\n",
        "\n",
        "for num in range(lower, upper + 1):\n",
        "   # all prime numbers are greater than 1\n",
        "   if num > 1:\n",
        "       for i in range(2, num):\n",
        "           if (num % i) == 0:\n",
        "               break\n",
        "       else:\n",
        "           print(num)\n"
      ],
      "metadata": {
        "colab": {
          "base_uri": "https://localhost:8080/"
        },
        "id": "2y1gPJNFHPfG",
        "outputId": "09c5e82f-2c07-47e1-8058-b4c4a4e15114"
      },
      "execution_count": null,
      "outputs": [
        {
          "output_type": "stream",
          "name": "stdout",
          "text": [
            "Prime numbers between 1 and 10 are:\n",
            "2\n",
            "3\n",
            "5\n",
            "7\n"
          ]
        }
      ]
    },
    {
      "cell_type": "code",
      "source": [],
      "metadata": {
        "id": "7RIajA5p7-VO"
      },
      "execution_count": null,
      "outputs": []
    }
  ]
}